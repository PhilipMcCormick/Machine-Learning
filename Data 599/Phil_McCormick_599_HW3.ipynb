{
  "nbformat": 4,
  "nbformat_minor": 0,
  "metadata": {
    "colab": {
      "name": "Phil_McCormick_599_HW3.ipynb",
      "provenance": []
    },
    "kernelspec": {
      "name": "python3",
      "display_name": "Python 3"
    },
    "language_info": {
      "name": "python"
    }
  },
  "cells": [
    {
      "cell_type": "markdown",
      "source": [
        "Phil McCormick\n",
        "\n",
        "MSDS 599 \n",
        "\n",
        "April 11, 2022\n",
        "\n",
        "Homework 3"
      ],
      "metadata": {
        "id": "N3aCpdKjmRCF"
      }
    },
    {
      "cell_type": "code",
      "source": [
        "import pandas as pd\n",
        "import numpy as np\n",
        "import matplotlib.pyplot as plt\n",
        "import seaborn as sns"
      ],
      "metadata": {
        "id": "ZeLEsw47fTbf"
      },
      "execution_count": 2,
      "outputs": []
    },
    {
      "cell_type": "code",
      "source": [
        "from sklearn.model_selection import cross_validate\n",
        "from sklearn.model_selection import train_test_split\n",
        "from sklearn.metrics import mean_squared_error\n",
        "from sklearn import datasets\n",
        "from sklearn.metrics import accuracy_score"
      ],
      "metadata": {
        "id": "ei-w9kwYffwO"
      },
      "execution_count": 3,
      "outputs": []
    },
    {
      "cell_type": "code",
      "source": [
        "from sklearn import tree\n",
        "from sklearn.tree import export_text"
      ],
      "metadata": {
        "id": "BXwH0UNOfgKO"
      },
      "execution_count": 4,
      "outputs": []
    },
    {
      "cell_type": "markdown",
      "source": [
        "1. Read in this file. How many classes are there? How many features are there? Are there any missing entries? \n"
      ],
      "metadata": {
        "id": "qmAfJlROfGOG"
      }
    },
    {
      "cell_type": "code",
      "source": [
        "df=pd.read_csv('/content/drive/MyDrive/Data 599/classify_me.csv')\n",
        "df.head()"
      ],
      "metadata": {
        "colab": {
          "base_uri": "https://localhost:8080/",
          "height": 206
        },
        "id": "tvazxmNVf3zK",
        "outputId": "255c0dbc-1d57-445e-84f7-ef0917fce406"
      },
      "execution_count": 5,
      "outputs": [
        {
          "output_type": "execute_result",
          "data": {
            "text/plain": [
              "   Unnamed: 0         A         B         C         D         E         F  \\\n",
              "0           0  0.150333 -1.468600  0.420842 -0.878333 -1.348358  0.686323   \n",
              "1           1 -1.632086 -0.705800  0.336495  0.024062 -0.493619 -1.534829   \n",
              "2           2 -1.285627  1.381077 -0.385668  1.446167 -0.348163 -2.255813   \n",
              "3           3 -0.012135 -0.729971 -1.132579  1.076787  1.235348  1.234472   \n",
              "4           4 -1.303877  0.930213  0.801927 -1.750493  0.846840 -0.258996   \n",
              "\n",
              "          G         H         I         J  Target  \n",
              "0 -0.663374 -2.301067  1.302455  0.320666       2  \n",
              "1 -0.024577 -0.296786  0.320047  0.506105       1  \n",
              "2  0.272703 -0.964729 -1.515589  0.454248       2  \n",
              "3 -1.809369  0.735971 -1.349093 -0.061655       0  \n",
              "4 -0.507816  0.560169  0.583438 -0.472208       0  "
            ],
            "text/html": [
              "\n",
              "  <div id=\"df-a5fcd9fc-ea4b-4dcf-8fec-6b13df8af102\">\n",
              "    <div class=\"colab-df-container\">\n",
              "      <div>\n",
              "<style scoped>\n",
              "    .dataframe tbody tr th:only-of-type {\n",
              "        vertical-align: middle;\n",
              "    }\n",
              "\n",
              "    .dataframe tbody tr th {\n",
              "        vertical-align: top;\n",
              "    }\n",
              "\n",
              "    .dataframe thead th {\n",
              "        text-align: right;\n",
              "    }\n",
              "</style>\n",
              "<table border=\"1\" class=\"dataframe\">\n",
              "  <thead>\n",
              "    <tr style=\"text-align: right;\">\n",
              "      <th></th>\n",
              "      <th>Unnamed: 0</th>\n",
              "      <th>A</th>\n",
              "      <th>B</th>\n",
              "      <th>C</th>\n",
              "      <th>D</th>\n",
              "      <th>E</th>\n",
              "      <th>F</th>\n",
              "      <th>G</th>\n",
              "      <th>H</th>\n",
              "      <th>I</th>\n",
              "      <th>J</th>\n",
              "      <th>Target</th>\n",
              "    </tr>\n",
              "  </thead>\n",
              "  <tbody>\n",
              "    <tr>\n",
              "      <th>0</th>\n",
              "      <td>0</td>\n",
              "      <td>0.150333</td>\n",
              "      <td>-1.468600</td>\n",
              "      <td>0.420842</td>\n",
              "      <td>-0.878333</td>\n",
              "      <td>-1.348358</td>\n",
              "      <td>0.686323</td>\n",
              "      <td>-0.663374</td>\n",
              "      <td>-2.301067</td>\n",
              "      <td>1.302455</td>\n",
              "      <td>0.320666</td>\n",
              "      <td>2</td>\n",
              "    </tr>\n",
              "    <tr>\n",
              "      <th>1</th>\n",
              "      <td>1</td>\n",
              "      <td>-1.632086</td>\n",
              "      <td>-0.705800</td>\n",
              "      <td>0.336495</td>\n",
              "      <td>0.024062</td>\n",
              "      <td>-0.493619</td>\n",
              "      <td>-1.534829</td>\n",
              "      <td>-0.024577</td>\n",
              "      <td>-0.296786</td>\n",
              "      <td>0.320047</td>\n",
              "      <td>0.506105</td>\n",
              "      <td>1</td>\n",
              "    </tr>\n",
              "    <tr>\n",
              "      <th>2</th>\n",
              "      <td>2</td>\n",
              "      <td>-1.285627</td>\n",
              "      <td>1.381077</td>\n",
              "      <td>-0.385668</td>\n",
              "      <td>1.446167</td>\n",
              "      <td>-0.348163</td>\n",
              "      <td>-2.255813</td>\n",
              "      <td>0.272703</td>\n",
              "      <td>-0.964729</td>\n",
              "      <td>-1.515589</td>\n",
              "      <td>0.454248</td>\n",
              "      <td>2</td>\n",
              "    </tr>\n",
              "    <tr>\n",
              "      <th>3</th>\n",
              "      <td>3</td>\n",
              "      <td>-0.012135</td>\n",
              "      <td>-0.729971</td>\n",
              "      <td>-1.132579</td>\n",
              "      <td>1.076787</td>\n",
              "      <td>1.235348</td>\n",
              "      <td>1.234472</td>\n",
              "      <td>-1.809369</td>\n",
              "      <td>0.735971</td>\n",
              "      <td>-1.349093</td>\n",
              "      <td>-0.061655</td>\n",
              "      <td>0</td>\n",
              "    </tr>\n",
              "    <tr>\n",
              "      <th>4</th>\n",
              "      <td>4</td>\n",
              "      <td>-1.303877</td>\n",
              "      <td>0.930213</td>\n",
              "      <td>0.801927</td>\n",
              "      <td>-1.750493</td>\n",
              "      <td>0.846840</td>\n",
              "      <td>-0.258996</td>\n",
              "      <td>-0.507816</td>\n",
              "      <td>0.560169</td>\n",
              "      <td>0.583438</td>\n",
              "      <td>-0.472208</td>\n",
              "      <td>0</td>\n",
              "    </tr>\n",
              "  </tbody>\n",
              "</table>\n",
              "</div>\n",
              "      <button class=\"colab-df-convert\" onclick=\"convertToInteractive('df-a5fcd9fc-ea4b-4dcf-8fec-6b13df8af102')\"\n",
              "              title=\"Convert this dataframe to an interactive table.\"\n",
              "              style=\"display:none;\">\n",
              "        \n",
              "  <svg xmlns=\"http://www.w3.org/2000/svg\" height=\"24px\"viewBox=\"0 0 24 24\"\n",
              "       width=\"24px\">\n",
              "    <path d=\"M0 0h24v24H0V0z\" fill=\"none\"/>\n",
              "    <path d=\"M18.56 5.44l.94 2.06.94-2.06 2.06-.94-2.06-.94-.94-2.06-.94 2.06-2.06.94zm-11 1L8.5 8.5l.94-2.06 2.06-.94-2.06-.94L8.5 2.5l-.94 2.06-2.06.94zm10 10l.94 2.06.94-2.06 2.06-.94-2.06-.94-.94-2.06-.94 2.06-2.06.94z\"/><path d=\"M17.41 7.96l-1.37-1.37c-.4-.4-.92-.59-1.43-.59-.52 0-1.04.2-1.43.59L10.3 9.45l-7.72 7.72c-.78.78-.78 2.05 0 2.83L4 21.41c.39.39.9.59 1.41.59.51 0 1.02-.2 1.41-.59l7.78-7.78 2.81-2.81c.8-.78.8-2.07 0-2.86zM5.41 20L4 18.59l7.72-7.72 1.47 1.35L5.41 20z\"/>\n",
              "  </svg>\n",
              "      </button>\n",
              "      \n",
              "  <style>\n",
              "    .colab-df-container {\n",
              "      display:flex;\n",
              "      flex-wrap:wrap;\n",
              "      gap: 12px;\n",
              "    }\n",
              "\n",
              "    .colab-df-convert {\n",
              "      background-color: #E8F0FE;\n",
              "      border: none;\n",
              "      border-radius: 50%;\n",
              "      cursor: pointer;\n",
              "      display: none;\n",
              "      fill: #1967D2;\n",
              "      height: 32px;\n",
              "      padding: 0 0 0 0;\n",
              "      width: 32px;\n",
              "    }\n",
              "\n",
              "    .colab-df-convert:hover {\n",
              "      background-color: #E2EBFA;\n",
              "      box-shadow: 0px 1px 2px rgba(60, 64, 67, 0.3), 0px 1px 3px 1px rgba(60, 64, 67, 0.15);\n",
              "      fill: #174EA6;\n",
              "    }\n",
              "\n",
              "    [theme=dark] .colab-df-convert {\n",
              "      background-color: #3B4455;\n",
              "      fill: #D2E3FC;\n",
              "    }\n",
              "\n",
              "    [theme=dark] .colab-df-convert:hover {\n",
              "      background-color: #434B5C;\n",
              "      box-shadow: 0px 1px 3px 1px rgba(0, 0, 0, 0.15);\n",
              "      filter: drop-shadow(0px 1px 2px rgba(0, 0, 0, 0.3));\n",
              "      fill: #FFFFFF;\n",
              "    }\n",
              "  </style>\n",
              "\n",
              "      <script>\n",
              "        const buttonEl =\n",
              "          document.querySelector('#df-a5fcd9fc-ea4b-4dcf-8fec-6b13df8af102 button.colab-df-convert');\n",
              "        buttonEl.style.display =\n",
              "          google.colab.kernel.accessAllowed ? 'block' : 'none';\n",
              "\n",
              "        async function convertToInteractive(key) {\n",
              "          const element = document.querySelector('#df-a5fcd9fc-ea4b-4dcf-8fec-6b13df8af102');\n",
              "          const dataTable =\n",
              "            await google.colab.kernel.invokeFunction('convertToInteractive',\n",
              "                                                     [key], {});\n",
              "          if (!dataTable) return;\n",
              "\n",
              "          const docLinkHtml = 'Like what you see? Visit the ' +\n",
              "            '<a target=\"_blank\" href=https://colab.research.google.com/notebooks/data_table.ipynb>data table notebook</a>'\n",
              "            + ' to learn more about interactive tables.';\n",
              "          element.innerHTML = '';\n",
              "          dataTable['output_type'] = 'display_data';\n",
              "          await google.colab.output.renderOutput(dataTable, element);\n",
              "          const docLink = document.createElement('div');\n",
              "          docLink.innerHTML = docLinkHtml;\n",
              "          element.appendChild(docLink);\n",
              "        }\n",
              "      </script>\n",
              "    </div>\n",
              "  </div>\n",
              "  "
            ]
          },
          "metadata": {},
          "execution_count": 5
        }
      ]
    },
    {
      "cell_type": "code",
      "source": [
        "df.nunique()"
      ],
      "metadata": {
        "colab": {
          "base_uri": "https://localhost:8080/"
        },
        "id": "Qrvdv2UbgZ4d",
        "outputId": "b92ad875-14d4-42fc-9311-d89cafbcf1ef"
      },
      "execution_count": 6,
      "outputs": [
        {
          "output_type": "execute_result",
          "data": {
            "text/plain": [
              "Unnamed: 0    1000\n",
              "A             1000\n",
              "B             1000\n",
              "C             1000\n",
              "D             1000\n",
              "E             1000\n",
              "F             1000\n",
              "G             1000\n",
              "H             1000\n",
              "I             1000\n",
              "J             1000\n",
              "Target           3\n",
              "dtype: int64"
            ]
          },
          "metadata": {},
          "execution_count": 6
        }
      ]
    },
    {
      "cell_type": "code",
      "source": [
        "df.dtypes"
      ],
      "metadata": {
        "colab": {
          "base_uri": "https://localhost:8080/"
        },
        "id": "elsrQF3ugO4V",
        "outputId": "fb3ae4e0-6b3d-4335-a0b8-ba55181188f4"
      },
      "execution_count": 7,
      "outputs": [
        {
          "output_type": "execute_result",
          "data": {
            "text/plain": [
              "Unnamed: 0      int64\n",
              "A             float64\n",
              "B             float64\n",
              "C             float64\n",
              "D             float64\n",
              "E             float64\n",
              "F             float64\n",
              "G             float64\n",
              "H             float64\n",
              "I             float64\n",
              "J             float64\n",
              "Target          int64\n",
              "dtype: object"
            ]
          },
          "metadata": {},
          "execution_count": 7
        }
      ]
    },
    {
      "cell_type": "code",
      "source": [
        "df.isna().sum()"
      ],
      "metadata": {
        "colab": {
          "base_uri": "https://localhost:8080/"
        },
        "id": "qZGwP3GPiJFc",
        "outputId": "438ec39f-2608-4855-87a0-e54492617fc0"
      },
      "execution_count": 8,
      "outputs": [
        {
          "output_type": "execute_result",
          "data": {
            "text/plain": [
              "Unnamed: 0    0\n",
              "A             0\n",
              "B             0\n",
              "C             0\n",
              "D             0\n",
              "E             0\n",
              "F             0\n",
              "G             0\n",
              "H             0\n",
              "I             0\n",
              "J             0\n",
              "Target        0\n",
              "dtype: int64"
            ]
          },
          "metadata": {},
          "execution_count": 8
        }
      ]
    },
    {
      "cell_type": "markdown",
      "source": [
        "There are three classes in the \"Target\" column; 0, 1, and 2. There are 10 different features to the \"Target\"; \"A\" through \"J\". There are no missing entries in the data set."
      ],
      "metadata": {
        "id": "_qbbRHkJhqeI"
      }
    },
    {
      "cell_type": "markdown",
      "source": [
        "2. Split into training and test sets (30% test set). Use random_state=5 so your splits are reproducible. "
      ],
      "metadata": {
        "id": "a761zFenfJW3"
      }
    },
    {
      "cell_type": "code",
      "source": [
        "x=df.drop('Target',axis=1)\n",
        "y=df['Target']"
      ],
      "metadata": {
        "id": "PkDqu9EMjIxF"
      },
      "execution_count": 9,
      "outputs": []
    },
    {
      "cell_type": "code",
      "source": [
        "x_train, x_test, y_train, y_test = train_test_split(x,y,test_size=0.3, random_state=5)"
      ],
      "metadata": {
        "id": "v3_-BPy9i6tx"
      },
      "execution_count": 10,
      "outputs": []
    },
    {
      "cell_type": "markdown",
      "source": [
        "3. Use all the features to build a classifier on the training set. Try bagging, random forest, boosting, and k-nearest neighbors. For knn, cross validate the number of neighbors you use. In your random forest implementation, build the trees deep -- that is, do not set a value for max_depth. For bagging and random forest,  cross validate the number of trees you use (given by the n_estimators parameter). For your boosting model, validate all of the parameters: n_estimators, learning_rate, and max_depth. In all three models, set random_state=5 so the results are reproducible."
      ],
      "metadata": {
        "id": "aTqX4rmcfM2M"
      }
    },
    {
      "cell_type": "markdown",
      "source": [
        "KNN"
      ],
      "metadata": {
        "id": "SnhZ_m_L65aP"
      }
    },
    {
      "cell_type": "code",
      "source": [
        "from sklearn.neighbors import KNeighborsRegressor\n",
        "from sklearn.neighbors import KNeighborsClassifier"
      ],
      "metadata": {
        "id": "2KbUTG651KfW"
      },
      "execution_count": 11,
      "outputs": []
    },
    {
      "cell_type": "code",
      "source": [
        "cvres=[]\n",
        "for i in range(1,100):\n",
        "    clf = KNeighborsClassifier(n_neighbors=i)\n",
        "    nn = cross_validate(clf, x_train, y_train, cv=5, scoring='accuracy')\n",
        "    cvres.append(nn['test_score'].mean())"
      ],
      "metadata": {
        "id": "KgX_SeUD1Kol"
      },
      "execution_count": 12,
      "outputs": []
    },
    {
      "cell_type": "code",
      "source": [
        "nn['test_score']"
      ],
      "metadata": {
        "colab": {
          "base_uri": "https://localhost:8080/"
        },
        "id": "lU1wSRPN8fCh",
        "outputId": "46be995a-6f15-4a54-f7f3-18f42fb45d06"
      },
      "execution_count": 13,
      "outputs": [
        {
          "output_type": "execute_result",
          "data": {
            "text/plain": [
              "array([0.34285714, 0.3       , 0.35      , 0.36428571, 0.35714286])"
            ]
          },
          "metadata": {},
          "execution_count": 13
        }
      ]
    },
    {
      "cell_type": "code",
      "source": [
        "np.argmax(cvres)"
      ],
      "metadata": {
        "colab": {
          "base_uri": "https://localhost:8080/"
        },
        "id": "KgQ_rvcm8jNe",
        "outputId": "225bc9d3-3909-449a-b8d0-4afd948c5b46"
      },
      "execution_count": 14,
      "outputs": [
        {
          "output_type": "execute_result",
          "data": {
            "text/plain": [
              "31"
            ]
          },
          "metadata": {},
          "execution_count": 14
        }
      ]
    },
    {
      "cell_type": "code",
      "source": [
        "mod = KNeighborsClassifier(n_neighbors=32)\n",
        "cl32=mod.fit(x_train,y_train)"
      ],
      "metadata": {
        "id": "h1pBoyav8mCU"
      },
      "execution_count": 15,
      "outputs": []
    },
    {
      "cell_type": "code",
      "source": [
        "cvres[20:35]"
      ],
      "metadata": {
        "colab": {
          "base_uri": "https://localhost:8080/"
        },
        "id": "QIjLB23K82c3",
        "outputId": "947f0424-b4ef-4f6c-ec2b-1fee472de2d5"
      },
      "execution_count": 16,
      "outputs": [
        {
          "output_type": "execute_result",
          "data": {
            "text/plain": [
              "[0.3271428571428571,\n",
              " 0.3442857142857143,\n",
              " 0.35285714285714287,\n",
              " 0.3442857142857143,\n",
              " 0.35142857142857137,\n",
              " 0.36571428571428577,\n",
              " 0.36142857142857143,\n",
              " 0.3728571428571429,\n",
              " 0.36714285714285716,\n",
              " 0.3557142857142857,\n",
              " 0.3742857142857142,\n",
              " 0.3771428571428571,\n",
              " 0.36428571428571427,\n",
              " 0.36142857142857143,\n",
              " 0.3642857142857142]"
            ]
          },
          "metadata": {},
          "execution_count": 16
        }
      ]
    },
    {
      "cell_type": "code",
      "source": [
        "accuracy_score(cl32.predict(x_test),y_test)"
      ],
      "metadata": {
        "colab": {
          "base_uri": "https://localhost:8080/"
        },
        "id": "LLbnYybq8tsk",
        "outputId": "e71e16f0-81f5-492d-ab6c-47779ada312b"
      },
      "execution_count": 17,
      "outputs": [
        {
          "output_type": "execute_result",
          "data": {
            "text/plain": [
              "0.33666666666666667"
            ]
          },
          "metadata": {},
          "execution_count": 17
        }
      ]
    },
    {
      "cell_type": "markdown",
      "source": [
        "Bagging"
      ],
      "metadata": {
        "id": "PHtlQ266vXBK"
      }
    },
    {
      "cell_type": "code",
      "source": [
        "from sklearn.ensemble import BaggingRegressor\n",
        "from sklearn.tree import DecisionTreeRegressor\n",
        "from sklearn.ensemble import BaggingClassifier\n",
        "from sklearn.tree import DecisionTreeClassifier"
      ],
      "metadata": {
        "id": "KJPUlGXKkUlJ"
      },
      "execution_count": 18,
      "outputs": []
    },
    {
      "cell_type": "code",
      "source": [
        "num_trees=np.linspace(50,800,10)"
      ],
      "metadata": {
        "id": "VadRqtCLt2r-"
      },
      "execution_count": 19,
      "outputs": []
    },
    {
      "cell_type": "code",
      "source": [
        "oob_res=[]\n",
        "for trs in num_trees:\n",
        "    res = BaggingRegressor(base_estimator=DecisionTreeRegressor(),n_estimators=int(trs),oob_score=True, random_state=5).fit(x_train, y_train)\n",
        "    oob_res.append(res.oob_score_)"
      ],
      "metadata": {
        "id": "pdZrAvLJsiVT"
      },
      "execution_count": 20,
      "outputs": []
    },
    {
      "cell_type": "code",
      "source": [
        "plt.plot(num_trees,oob_res)"
      ],
      "metadata": {
        "colab": {
          "base_uri": "https://localhost:8080/",
          "height": 287
        },
        "id": "y7m2xfOuuBlu",
        "outputId": "e1185ae1-26ad-4cb4-8c17-2e9ef3942a83"
      },
      "execution_count": 21,
      "outputs": [
        {
          "output_type": "execute_result",
          "data": {
            "text/plain": [
              "[<matplotlib.lines.Line2D at 0x7f2b0e999050>]"
            ]
          },
          "metadata": {},
          "execution_count": 21
        },
        {
          "output_type": "display_data",
          "data": {
            "text/plain": [
              "<Figure size 432x288 with 1 Axes>"
            ],
            "image/png": "[encoded data removed]"
          },
          "metadata": {
            "needs_background": "light"
          }
        }
      ]
    },
    {
      "cell_type": "code",
      "source": [
        "num_trees[np.argmax(oob_res)]"
      ],
      "metadata": {
        "colab": {
          "base_uri": "https://localhost:8080/"
        },
        "id": "GXQsCwnCuHhK",
        "outputId": "f38e42e4-8e95-47d3-c7de-0033b114982b"
      },
      "execution_count": 22,
      "outputs": [
        {
          "output_type": "execute_result",
          "data": {
            "text/plain": [
              "633.3333333333333"
            ]
          },
          "metadata": {},
          "execution_count": 22
        }
      ]
    },
    {
      "cell_type": "code",
      "source": [
        "opt_trs=int(num_trees[np.argmax(oob_res)])\n",
        "opt_trs"
      ],
      "metadata": {
        "colab": {
          "base_uri": "https://localhost:8080/"
        },
        "id": "E6nLjX68uqpj",
        "outputId": "63c854a5-72c4-4f0b-80d8-13305e2a8a13"
      },
      "execution_count": 23,
      "outputs": [
        {
          "output_type": "execute_result",
          "data": {
            "text/plain": [
              "633"
            ]
          },
          "metadata": {},
          "execution_count": 23
        }
      ]
    },
    {
      "cell_type": "code",
      "source": [
        "clf = BaggingClassifier(base_estimator=DecisionTreeClassifier(),n_estimators=opt_trs,random_state=5).fit(x_train, y_train)"
      ],
      "metadata": {
        "id": "WziHYOlVvg4k"
      },
      "execution_count": 24,
      "outputs": []
    },
    {
      "cell_type": "code",
      "source": [
        "accuracy_score(clf.predict(x_test),y_test)"
      ],
      "metadata": {
        "colab": {
          "base_uri": "https://localhost:8080/"
        },
        "id": "__R40ckguvdx",
        "outputId": "4feb2a7b-99a0-4e7b-d0d7-f9cf721077b8"
      },
      "execution_count": 25,
      "outputs": [
        {
          "output_type": "execute_result",
          "data": {
            "text/plain": [
              "0.6266666666666667"
            ]
          },
          "metadata": {},
          "execution_count": 25
        }
      ]
    },
    {
      "cell_type": "markdown",
      "source": [
        "Random Forest"
      ],
      "metadata": {
        "id": "6H63Eduwvabp"
      }
    },
    {
      "cell_type": "code",
      "source": [
        "from sklearn.ensemble import RandomForestClassifier"
      ],
      "metadata": {
        "id": "55gag4B6vlHY"
      },
      "execution_count": 26,
      "outputs": []
    },
    {
      "cell_type": "code",
      "source": [
        "rf = RandomForestClassifier(n_estimators=opt_trs, max_features='sqrt', random_state=5).fit(x_train,y_train)"
      ],
      "metadata": {
        "id": "M_a-v7hXv8aX"
      },
      "execution_count": 27,
      "outputs": []
    },
    {
      "cell_type": "code",
      "source": [
        "rf.score(x_test,y_test)"
      ],
      "metadata": {
        "colab": {
          "base_uri": "https://localhost:8080/"
        },
        "id": "oQPj8Tnrw2S9",
        "outputId": "1584c6d5-2c7e-4f09-c2cd-4eccdd40835c"
      },
      "execution_count": 28,
      "outputs": [
        {
          "output_type": "execute_result",
          "data": {
            "text/plain": [
              "0.6433333333333333"
            ]
          },
          "metadata": {},
          "execution_count": 28
        }
      ]
    },
    {
      "cell_type": "markdown",
      "source": [
        "Boosting"
      ],
      "metadata": {
        "id": "Zs8_zzDyxp2P"
      }
    },
    {
      "cell_type": "code",
      "source": [
        "from sklearn.ensemble import GradientBoostingClassifier\n",
        "from sklearn.model_selection import GridSearchCV"
      ],
      "metadata": {
        "id": "TpJ35GA41Jn_"
      },
      "execution_count": 29,
      "outputs": []
    },
    {
      "cell_type": "code",
      "source": [
        "parameters = {'learning_rate':[0.1,0.01], 'n_estimators':[300,400,500], 'max_depth':[2,3,4,5]}"
      ],
      "metadata": {
        "id": "y5IlpE9PxmSs"
      },
      "execution_count": 30,
      "outputs": []
    },
    {
      "cell_type": "code",
      "source": [
        "bmod = GradientBoostingClassifier(random_state=5)"
      ],
      "metadata": {
        "id": "pMowry9byGHj"
      },
      "execution_count": 31,
      "outputs": []
    },
    {
      "cell_type": "code",
      "source": [
        "boost_regr = GridSearchCV(bmod, parameters)\n",
        "boost_regr.fit(x_train, y_train)"
      ],
      "metadata": {
        "colab": {
          "base_uri": "https://localhost:8080/"
        },
        "id": "yV7I9g8PyeJj",
        "outputId": "8d1c8638-c76f-449e-bd31-dbb796deaba8"
      },
      "execution_count": 32,
      "outputs": [
        {
          "output_type": "execute_result",
          "data": {
            "text/plain": [
              "GridSearchCV(estimator=GradientBoostingClassifier(random_state=5),\n",
              "             param_grid={'learning_rate': [0.1, 0.01],\n",
              "                         'max_depth': [2, 3, 4, 5],\n",
              "                         'n_estimators': [300, 400, 500]})"
            ]
          },
          "metadata": {},
          "execution_count": 32
        }
      ]
    },
    {
      "cell_type": "code",
      "source": [
        "df=pd.DataFrame.from_dict(boost_regr.cv_results_)"
      ],
      "metadata": {
        "id": "mT1JDRY1z66x"
      },
      "execution_count": 38,
      "outputs": []
    },
    {
      "cell_type": "code",
      "source": [
        "df[df['mean_test_score']==df['mean_test_score'].max()]"
      ],
      "metadata": {
        "colab": {
          "base_uri": "https://localhost:8080/",
          "height": 197
        },
        "id": "BrzLjTLmz_Tl",
        "outputId": "e7998949-d165-49e3-e8f5-fbc99b842f2f"
      },
      "execution_count": 39,
      "outputs": [
        {
          "output_type": "execute_result",
          "data": {
            "text/plain": [
              "   mean_fit_time  std_fit_time  mean_score_time  std_score_time  \\\n",
              "2       2.599049      0.028512         0.004412        0.000121   \n",
              "\n",
              "  param_learning_rate param_max_depth param_n_estimators  \\\n",
              "2                 0.1               2                500   \n",
              "\n",
              "                                              params  split0_test_score  \\\n",
              "2  {'learning_rate': 0.1, 'max_depth': 2, 'n_esti...           0.742857   \n",
              "\n",
              "   split1_test_score  split2_test_score  split3_test_score  split4_test_score  \\\n",
              "2                0.7           0.735714           0.735714               0.75   \n",
              "\n",
              "   mean_test_score  std_test_score  rank_test_score  \n",
              "2         0.732857        0.017261                1  "
            ],
            "text/html": [
              "\n",
              "  <div id=\"df-da688daa-16e7-46ad-a8e3-1a6e6cc5e06d\">\n",
              "    <div class=\"colab-df-container\">\n",
              "      <div>\n",
              "<style scoped>\n",
              "    .dataframe tbody tr th:only-of-type {\n",
              "        vertical-align: middle;\n",
              "    }\n",
              "\n",
              "    .dataframe tbody tr th {\n",
              "        vertical-align: top;\n",
              "    }\n",
              "\n",
              "    .dataframe thead th {\n",
              "        text-align: right;\n",
              "    }\n",
              "</style>\n",
              "<table border=\"1\" class=\"dataframe\">\n",
              "  <thead>\n",
              "    <tr style=\"text-align: right;\">\n",
              "      <th></th>\n",
              "      <th>mean_fit_time</th>\n",
              "      <th>std_fit_time</th>\n",
              "      <th>mean_score_time</th>\n",
              "      <th>std_score_time</th>\n",
              "      <th>param_learning_rate</th>\n",
              "      <th>param_max_depth</th>\n",
              "      <th>param_n_estimators</th>\n",
              "      <th>params</th>\n",
              "      <th>split0_test_score</th>\n",
              "      <th>split1_test_score</th>\n",
              "      <th>split2_test_score</th>\n",
              "      <th>split3_test_score</th>\n",
              "      <th>split4_test_score</th>\n",
              "      <th>mean_test_score</th>\n",
              "      <th>std_test_score</th>\n",
              "      <th>rank_test_score</th>\n",
              "    </tr>\n",
              "  </thead>\n",
              "  <tbody>\n",
              "    <tr>\n",
              "      <th>2</th>\n",
              "      <td>2.599049</td>\n",
              "      <td>0.028512</td>\n",
              "      <td>0.004412</td>\n",
              "      <td>0.000121</td>\n",
              "      <td>0.1</td>\n",
              "      <td>2</td>\n",
              "      <td>500</td>\n",
              "      <td>{'learning_rate': 0.1, 'max_depth': 2, 'n_esti...</td>\n",
              "      <td>0.742857</td>\n",
              "      <td>0.7</td>\n",
              "      <td>0.735714</td>\n",
              "      <td>0.735714</td>\n",
              "      <td>0.75</td>\n",
              "      <td>0.732857</td>\n",
              "      <td>0.017261</td>\n",
              "      <td>1</td>\n",
              "    </tr>\n",
              "  </tbody>\n",
              "</table>\n",
              "</div>\n",
              "      <button class=\"colab-df-convert\" onclick=\"convertToInteractive('df-da688daa-16e7-46ad-a8e3-1a6e6cc5e06d')\"\n",
              "              title=\"Convert this dataframe to an interactive table.\"\n",
              "              style=\"display:none;\">\n",
              "        \n",
              "  <svg xmlns=\"http://www.w3.org/2000/svg\" height=\"24px\"viewBox=\"0 0 24 24\"\n",
              "       width=\"24px\">\n",
              "    <path d=\"M0 0h24v24H0V0z\" fill=\"none\"/>\n",
              "    <path d=\"M18.56 5.44l.94 2.06.94-2.06 2.06-.94-2.06-.94-.94-2.06-.94 2.06-2.06.94zm-11 1L8.5 8.5l.94-2.06 2.06-.94-2.06-.94L8.5 2.5l-.94 2.06-2.06.94zm10 10l.94 2.06.94-2.06 2.06-.94-2.06-.94-.94-2.06-.94 2.06-2.06.94z\"/><path d=\"M17.41 7.96l-1.37-1.37c-.4-.4-.92-.59-1.43-.59-.52 0-1.04.2-1.43.59L10.3 9.45l-7.72 7.72c-.78.78-.78 2.05 0 2.83L4 21.41c.39.39.9.59 1.41.59.51 0 1.02-.2 1.41-.59l7.78-7.78 2.81-2.81c.8-.78.8-2.07 0-2.86zM5.41 20L4 18.59l7.72-7.72 1.47 1.35L5.41 20z\"/>\n",
              "  </svg>\n",
              "      </button>\n",
              "      \n",
              "  <style>\n",
              "    .colab-df-container {\n",
              "      display:flex;\n",
              "      flex-wrap:wrap;\n",
              "      gap: 12px;\n",
              "    }\n",
              "\n",
              "    .colab-df-convert {\n",
              "      background-color: #E8F0FE;\n",
              "      border: none;\n",
              "      border-radius: 50%;\n",
              "      cursor: pointer;\n",
              "      display: none;\n",
              "      fill: #1967D2;\n",
              "      height: 32px;\n",
              "      padding: 0 0 0 0;\n",
              "      width: 32px;\n",
              "    }\n",
              "\n",
              "    .colab-df-convert:hover {\n",
              "      background-color: #E2EBFA;\n",
              "      box-shadow: 0px 1px 2px rgba(60, 64, 67, 0.3), 0px 1px 3px 1px rgba(60, 64, 67, 0.15);\n",
              "      fill: #174EA6;\n",
              "    }\n",
              "\n",
              "    [theme=dark] .colab-df-convert {\n",
              "      background-color: #3B4455;\n",
              "      fill: #D2E3FC;\n",
              "    }\n",
              "\n",
              "    [theme=dark] .colab-df-convert:hover {\n",
              "      background-color: #434B5C;\n",
              "      box-shadow: 0px 1px 3px 1px rgba(0, 0, 0, 0.15);\n",
              "      filter: drop-shadow(0px 1px 2px rgba(0, 0, 0, 0.3));\n",
              "      fill: #FFFFFF;\n",
              "    }\n",
              "  </style>\n",
              "\n",
              "      <script>\n",
              "        const buttonEl =\n",
              "          document.querySelector('#df-da688daa-16e7-46ad-a8e3-1a6e6cc5e06d button.colab-df-convert');\n",
              "        buttonEl.style.display =\n",
              "          google.colab.kernel.accessAllowed ? 'block' : 'none';\n",
              "\n",
              "        async function convertToInteractive(key) {\n",
              "          const element = document.querySelector('#df-da688daa-16e7-46ad-a8e3-1a6e6cc5e06d');\n",
              "          const dataTable =\n",
              "            await google.colab.kernel.invokeFunction('convertToInteractive',\n",
              "                                                     [key], {});\n",
              "          if (!dataTable) return;\n",
              "\n",
              "          const docLinkHtml = 'Like what you see? Visit the ' +\n",
              "            '<a target=\"_blank\" href=https://colab.research.google.com/notebooks/data_table.ipynb>data table notebook</a>'\n",
              "            + ' to learn more about interactive tables.';\n",
              "          element.innerHTML = '';\n",
              "          dataTable['output_type'] = 'display_data';\n",
              "          await google.colab.output.renderOutput(dataTable, element);\n",
              "          const docLink = document.createElement('div');\n",
              "          docLink.innerHTML = docLinkHtml;\n",
              "          element.appendChild(docLink);\n",
              "        }\n",
              "      </script>\n",
              "    </div>\n",
              "  </div>\n",
              "  "
            ]
          },
          "metadata": {},
          "execution_count": 39
        }
      ]
    },
    {
      "cell_type": "code",
      "source": [
        "breg = GradientBoostingClassifier(random_state=5,learning_rate=0.1,n_estimators=500, max_depth=2).fit(x_train,y_train)"
      ],
      "metadata": {
        "id": "mOV015GP1KPz"
      },
      "execution_count": 40,
      "outputs": []
    },
    {
      "cell_type": "code",
      "source": [
        "breg.score(x_test,y_test)"
      ],
      "metadata": {
        "colab": {
          "base_uri": "https://localhost:8080/"
        },
        "id": "g-M5a7Ka1KWc",
        "outputId": "8e124387-22ab-4e04-fbf5-89fe7c6e5838"
      },
      "execution_count": 41,
      "outputs": [
        {
          "output_type": "execute_result",
          "data": {
            "text/plain": [
              "0.69"
            ]
          },
          "metadata": {},
          "execution_count": 41
        }
      ]
    },
    {
      "cell_type": "markdown",
      "source": [
        "\n",
        "4. Comment on which model gives the best results on the test set.  For the best model, comment on feature importances (if relevant)."
      ],
      "metadata": {
        "id": "yVuqjmqtfPUt"
      }
    },
    {
      "cell_type": "markdown",
      "source": [
        "The best results are given from the Boosting Regressor Model, with an accuracy score of 69% on the test set. We find the optimal parameters by creating a dataframe of cross validation scores and pick the best parameters for our model. Setting a low learning rate (0.1) allows for more trees to fit with residuals, and when combined make the model stronger. For this model it is best to not let the trees go to far, using a max depth of 2 gives us the best results. With a larger amount of estimators, 500, we get the strongest R^2."
      ],
      "metadata": {
        "id": "qGq1xFyP2J0O"
      }
    }
  ]
}